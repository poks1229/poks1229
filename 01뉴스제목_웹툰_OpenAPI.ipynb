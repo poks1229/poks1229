{
 "cells": [
  {
   "cell_type": "markdown",
   "id": "eb0bfa44",
   "metadata": {},
   "source": [
    "## 1. 뉴스제목 가져오기\n",
    "* user-agent 요청헤더를 반드시 설정해야 한다."
   ]
  },
  {
   "cell_type": "code",
   "execution_count": null,
   "id": "f0d27781",
   "metadata": {},
   "outputs": [],
   "source": [
    "!PIP"
   ]
  },
  {
   "cell_type": "code",
   "execution_count": null,
   "id": "f7798ea8",
   "metadata": {},
   "outputs": [],
   "source": [
    "pip show be\n",
    "# beautifulsoup4 라이브러리 설치여부 확인"
   ]
  },
  {
   "cell_type": "code",
   "execution_count": null,
   "id": "bf80a429",
   "metadata": {},
   "outputs": [],
   "source": [
    "import requests \n",
    "import bs4\n",
    "from bs4 import BeautifulSoup"
   ]
  },
  {
   "cell_type": "code",
   "execution_count": null,
   "id": "13808d52",
   "metadata": {},
   "outputs": [],
   "source": []
  },
  {
   "cell_type": "code",
   "execution_count": null,
   "id": "9788d6ac",
   "metadata": {},
   "outputs": [],
   "source": [
    "# requests, bs4 버전 확인하기\n",
    "print(f'reequests 버전= [/{requests.__version__}]')"
   ]
  },
  {
   "cell_type": "markdown",
   "id": "ccb91def-cde3-4aeb-b0e5-2e7233500333",
   "metadata": {},
   "source": [
    "### 1. 뉴스 제목 추출하기"
   ]
  },
  {
   "cell_type": "code",
   "execution_count": null,
   "id": "94c12fd6",
   "metadata": {},
   "outputs": [
    {
     "name": "stdout",
     "output_type": "stream",
     "text": [
      "https://news.naver.com/section/105\n"
     ]
    }
   ],
   "source": [
    "# IT/과학 뉴스 \n",
    "req_param = {\n",
    "    'sid': 105\n",
    "}\n",
    "# \n",
    "url = 'https://news.naver.com/section/{sid}'.format(**req_param)\n",
    "print(url)\n",
    "\n",
    "# 요청 헤더 설정 : 브라우저 정보\n",
    "req_header = {\n",
    "    \n",
    "}\n",
    "\n",
    "# requests 의 get() 함수 호출하기 \n",
    "\n",
    "# 응답(response)이 OK 이면\n",
    "# 응답 (response)에서 text 추출\n",
    "# BeautifulSoup 객체 생성  \n",
    "# CSS 선택자\n",
    "# print(soup.select(\"div.sa_text a[href*='mnews/article']\"))\n",
    "\n",
    "# <a> 태그 리스트 순회하기    \n",
    "\n",
    "# 응답(response)이 Error 이면 status code 출력    \n",
    "\n"
   ]
  },
  {
   "cell_type": "markdown",
   "id": "45640860-a449-4285-90d7-5f300292b461",
   "metadata": {},
   "source": [
    "### 1.1 뉴스제목 추출하는 함수 선언하기"
   ]
  },
  {
   "cell_type": "code",
   "execution_count": 13,
   "id": "858952c6",
   "metadata": {},
   "outputs": [
    {
     "name": "stdout",
     "output_type": "stream",
     "text": [
      "총 9개의 뉴스 제목을 찾았습니다.\n",
      "\n",
      "1. 일본, 미국 쌀 수입 늘리고 관세 25→15% 낮췄다\n",
      "   링크: https://v.daum.net/v/20250723134244203\n",
      "\n",
      "2. [충남창업人-톡](6)카데아, '3D 어라운드 뷰' 개발…美·유럽 시장 정조준\n",
      "   링크: https://v.daum.net/v/20250723130459121\n",
      "\n",
      "3. [뉴스나우] 이틀 앞으로 다가온 한미 협상 시사점은?\n",
      "   링크: https://v.daum.net/v/20250723125814945\n",
      "\n",
      "4. “대졸자, 일자리 밖에 서다”.. 비경제활동 300만 시대의 경고\n",
      "   링크: https://v.daum.net/v/20250723122253422\n",
      "\n",
      "5. 무료로 배송 받았던 카톡 선물 '유료' 옵션 생긴 이유는?\n",
      "   링크: https://v.daum.net/v/20250723122213414\n",
      "\n",
      "6. 혼인·출생아 수 청신호…예비부부 울리는 ‘스드메’\n",
      "   링크: https://v.daum.net/v/20250723120247911\n",
      "\n",
      "7. 성 소수자, 낯선 언어의 곁에 오래 머무는 일 [노동의 표정]\n",
      "   링크: https://v.daum.net/v/20250723115941660\n",
      "\n",
      "8. 6.27 대출 규제에 매매는 잠잠, 월세로 내몰리는 실수요자?\n",
      "   링크: https://v.daum.net/v/20250723115214434\n",
      "\n",
      "9. 법인세 '원복' 부자감세 되돌리는 세제 개편? '숫자의 함정'에 빠지면 안 되는 이유\n",
      "   링크: https://v.daum.net/v/20250723115104376\n",
      "\n"
     ]
    }
   ],
   "source": [
    "import requests\n",
    "from bs4 import BeautifulSoup\n",
    "\n",
    "def get_news_titles(url):\n",
    "    headers = {\"User-Agent\": \"Mozilla/5.0\"}  # 차단 방지용 헤더\n",
    "    response = requests.get(url, headers=headers)\n",
    "    response.encoding = 'utf-8'  # 인코딩 맞추기\n",
    "\n",
    "    if response.status_code != 200:\n",
    "        print(f\"페이지 요청 실패: 상태 코드 {response.status_code}\")\n",
    "        return []\n",
    "\n",
    "    soup = BeautifulSoup(response.text, 'html.parser')\n",
    "    news_items = []\n",
    "\n",
    "    # 예: <strong class=\"tit_txt\"> 태그에서 뉴스 제목 추출 (다음 뉴스 기준)\n",
    "    for li_tag in soup.select('ul.list_newsheadline2 li'):\n",
    "        a_tag = li_tag.find('a')\n",
    "        link = a_tag['href']\n",
    "        strong_tag = li_tag.select_one('strong.tit_txt')\n",
    "        if strong_tag:\n",
    "            title = strong_tag.get_text(strip=True)\n",
    "            news_items.append((title, link))\n",
    "\n",
    "    return news_items\n",
    "\n",
    "url = \"https://news.daum.net/economy\"\n",
    "titles = get_news_titles(url)\n",
    "\n",
    "print(f\"총 {len(titles)}개의 뉴스 제목을 찾았습니다.\\n\")\n",
    "for idx, (title, link) in enumerate(titles, 1):\n",
    "    print(f\"{idx}. {title}\\n   링크: {link}\\n\")\n"
   ]
  },
  {
   "cell_type": "markdown",
   "id": "1c1e3412",
   "metadata": {},
   "source": [
    "\n"
   ]
  },
  {
   "cell_type": "markdown",
   "id": "323196dc",
   "metadata": {},
   "source": [
    "### 2. Image 다운로드\n",
    "* referer 요청 헤더를 반드시 설정해야 한다."
   ]
  },
  {
   "cell_type": "code",
   "execution_count": null,
   "id": "c72d6cb1",
   "metadata": {},
   "outputs": [],
   "source": []
  },
  {
   "cell_type": "markdown",
   "id": "e8b00a04",
   "metadata": {},
   "source": [
    "* 현재 요청된 페이지의 image 모두 다운로드 해보기"
   ]
  },
  {
   "cell_type": "code",
   "execution_count": null,
   "id": "b30f7bf5",
   "metadata": {},
   "outputs": [],
   "source": []
  },
  {
   "cell_type": "markdown",
   "id": "2ac9f5f9",
   "metadata": {},
   "source": [
    "### 3. 파일 업로드 하기\n",
    "* http://httpbin.org/post 업로드 요청을 할 수 있는 url"
   ]
  },
  {
   "cell_type": "code",
   "execution_count": null,
   "id": "04da4790",
   "metadata": {},
   "outputs": [
    {
     "ename": "SyntaxError",
     "evalue": "invalid decimal literal (4205345372.py, line 1)",
     "output_type": "error",
     "traceback": [
      "  \u001b[36mCell\u001b[39m\u001b[36m \u001b[39m\u001b[32mIn[9]\u001b[39m\u001b[32m, line 1\u001b[39m\n\u001b[31m    \u001b[39m\u001b[31m01_news_scraping.ipynb\u001b[39m\n      ^\n\u001b[31mSyntaxError\u001b[39m\u001b[31m:\u001b[39m invalid decimal literal\n"
     ]
    }
   ],
   "source": []
  },
  {
   "cell_type": "markdown",
   "id": "7ad65f12",
   "metadata": {},
   "source": [
    "### 4. 캡챠(이미지) API 호출하기\n",
    "* urllib 사용\n",
    "* 1. 캡차 키 발급 요청\n",
    "  2. 캡차 이미지 요청\n",
    "  3. 사용자 입력값 검증 요청"
   ]
  },
  {
   "cell_type": "code",
   "execution_count": null,
   "id": "bc4ae360-e772-4873-8642-d3494edd34e1",
   "metadata": {},
   "outputs": [],
   "source": [
    "# 캡차 키 발급 요청\n"
   ]
  },
  {
   "cell_type": "code",
   "execution_count": null,
   "id": "7b95b6a0-c218-4792-82a6-da4d80872071",
   "metadata": {},
   "outputs": [],
   "source": [
    "# 캡차 이미지 요청\n"
   ]
  },
  {
   "cell_type": "code",
   "execution_count": null,
   "id": "a79076af-2cd0-4de2-8301-316b9130c55e",
   "metadata": {},
   "outputs": [],
   "source": [
    "#  사용자 입력값 검증 요청\n",
    "\n"
   ]
  },
  {
   "cell_type": "markdown",
   "id": "b7d984a6",
   "metadata": {},
   "source": [
    "* requests를 사용하는 코드로 변경하기\n",
    "* [requests docs](https://requests.readthedocs.io/en/latest/user/quickstart/)"
   ]
  },
  {
   "cell_type": "code",
   "execution_count": null,
   "id": "727b427b",
   "metadata": {
    "scrolled": true
   },
   "outputs": [
    {
     "name": "stdout",
     "output_type": "stream",
     "text": [
      "Error Code: 403\n"
     ]
    }
   ],
   "source": [
    "# 사용자 입력값 검증 요청\n",
    "\n"
   ]
  },
  {
   "cell_type": "markdown",
   "id": "d5e1179a",
   "metadata": {},
   "source": [
    "### 5. 블로그 검색하기"
   ]
  },
  {
   "cell_type": "code",
   "execution_count": null,
   "id": "877d0c7f",
   "metadata": {},
   "outputs": [],
   "source": [
    "import requests\n",
    "import pprint\n",
    "\n",
    "headers = {\n",
    "    'X-Naver-Client-Id': '',\n",
    "    'X-Naver-Client-Secret': '',\n",
    "}\n",
    "\n",
    "payload = {\n",
    "    'query': '파이썬',\n",
    "    'display': 100,\n",
    "    'sort': 'sim'\n",
    "}\n",
    "\n",
    "url = 'https://openapi.naver.com/v1/search/blog.json'\n",
    "\n",
    "\n",
    "# requests get(url, params, headers) 요청 \n",
    "\n",
    "# json() 함수로 응답 결과 가져오오기\n",
    "# 'title' , 'bloggername' , 'description' , 'bloggerlink' , 'link'\n",
    "\n",
    "# 'data/nhnblog.txt' 파일 생성하기\n"
   ]
  }
 ],
 "metadata": {
  "kernelspec": {
   "display_name": "Python 3",
   "language": "python",
   "name": "python3"
  },
  "language_info": {
   "codemirror_mode": {
    "name": "ipython",
    "version": 3
   },
   "file_extension": ".py",
   "mimetype": "text/x-python",
   "name": "python",
   "nbconvert_exporter": "python",
   "pygments_lexer": "ipython3",
   "version": "3.13.5"
  }
 },
 "nbformat": 4,
 "nbformat_minor": 5
}
